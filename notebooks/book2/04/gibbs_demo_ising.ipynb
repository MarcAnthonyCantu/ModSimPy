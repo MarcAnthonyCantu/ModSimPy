{
  "cells": [
    {
      "cell_type": "markdown",
      "id": "b846c26d",
      "metadata": {
        "id": "b846c26d"
      },
      "source": [
        "# Gibbs sampling on Ising model"
      ]
    },
    {
      "cell_type": "code",
      "execution_count": 1,
      "id": "e591cbe2",
      "metadata": {
        "id": "e591cbe2"
      },
      "outputs": [],
      "source": [
        "\"\"\"\n",
        "Author : Ming Liang Ang\n",
        "Based on : https://github.com/probml/pmtk3/blob/master/demos/gibbsDemoIsing.m\n",
        "\"\"\"\n",
        "\n",
        "import numpy as np\n",
        "import matplotlib.pyplot as plt\n",
        "import jax\n",
        "import jax.numpy as jnp\n",
        "\n",
        "# try:\n",
        "#     import probml_utils as pml\n",
        "# except ModuleNotFoundError:\n",
        "#     %pip install -qq git+https://github.com/probml/probml-utils.git\n",
        "#     import probml_utils as pml"
      ]
    },
    {
      "cell_type": "code",
      "execution_count": 2,
      "id": "fa78761c",
      "metadata": {
        "id": "fa78761c"
      },
      "outputs": [],
      "source": [
        "n_pixels = 100\n",
        "pixels = jnp.array(range(n_pixels))\n",
        "\n",
        "\n",
        "def energy(ix, iy, X, J):\n",
        "    wi = 0\n",
        "    wi += jax.lax.cond(iy > 0, lambda: X[iy - 1, ix], lambda: 0)  # if iy != 0 then add X[iy - 1, ix]\n",
        "    wi += jax.lax.cond(iy < n_pixels - 1, lambda: X[iy + 1, ix], lambda: 0)\n",
        "    wi += jax.lax.cond(ix > 0, lambda: X[iy, ix - 1], lambda: 0)\n",
        "    wi += jax.lax.cond(ix < n_pixels - 1, lambda: X[iy, ix + 1], lambda: 0)\n",
        "    return 2 * J * wi\n",
        "\n",
        "\n",
        "def gibbs_samples(rng_key, J, niter):\n",
        "\n",
        "    x_values = jnp.array([-1, 1])  # x is binary variable having values either -1 or +1\n",
        "    grid = jnp.array(jax.random.choice(rng_key, a=x_values, shape=(n_pixels, n_pixels)))  # create grid\n",
        "\n",
        "    @jax.jit\n",
        "    def one_step(grid, key):\n",
        "        keys = jax.random.split(key)\n",
        "        ix = jnp.array(jax.random.choice(keys[0], a=pixels))  # pick random x pixel\n",
        "        iy = jax.random.choice(keys[1], a=pixels)  # pick random y pixel\n",
        "        e = energy(ix, iy, grid, J)  # calculate enerygy on (ix, iy)\n",
        "        p_ix_iy = jax.nn.sigmoid(e)  # probability\n",
        "        u = jax.random.uniform(key)\n",
        "        grid = grid.at[iy, ix].set(jax.lax.cond(u < p_ix_iy, lambda: 1, lambda: -1))\n",
        "        return grid, None\n",
        "\n",
        "    keys = jax.random.split(key=rng_key, num=niter)\n",
        "    grid, _ = jax.lax.scan(one_step, grid, keys)\n",
        "    return grid"
      ]
    },
    {
      "cell_type": "code",
      "execution_count": 3,
      "id": "e9b244a9",
      "metadata": {
        "id": "e9b244a9"
      },
      "outputs": [],
      "source": [
        "niter = 50000\n",
        "gibbs_samples_jit = jax.jit(gibbs_samples, static_argnames=[\"niter\"])"
      ]
    },
    {
      "cell_type": "code",
      "execution_count": null,
      "id": "5c7b25db",
      "metadata": {
        "id": "5c7b25db",
        "outputId": "6c7a6123-1849-4639-8fea-5fa356f3f34c"
      },
      "outputs": [
        {
          "name": "stderr",
          "output_type": "stream",
          "text": [
            "/home/patel_zeel/Probml_karm/probml-utils/probml_utils/plotting.py:26: UserWarning: LATEXIFY environment variable not set, not latexifying\n",
            "  warnings.warn(\"LATEXIFY environment variable not set, not latexifying\")\n"
          ]
        }
      ],
      "source": [
        "#pml.latexify(width_scale_factor=3, fig_height=1.5)"
      ]
    },
    {
      "cell_type": "code",
      "execution_count": 4,
      "id": "2816d717",
      "metadata": {
        "id": "2816d717"
      },
      "outputs": [],
      "source": [
        "def plot_samples(J, sample_grid, fig_no=None):\n",
        "    cords = jnp.array(range(len(sample_grid)))\n",
        "    x, y = jnp.meshgrid(cords, cords)\n",
        "    plt.figure()\n",
        "    plt.pcolormesh(x, y, sample_grid, cmap=\"Greys\")\n",
        "    plt.gca().set_aspect(\"equal\")\n",
        "    plt.title(f\"$J={J}$\")\n",
        "    plt.xlabel(\"x1\")\n",
        "    plt.ylabel(\"x2\")\n",
        "    plt.xticks(range(0, 101, 50))\n",
        "    plt.yticks(range(0, 101, 50))\n",
        "    # if fig_no != None:\n",
        "    #     pml.savefig(\"gibbsDemoIsing{}.pdf\".format(fig_no))"
      ]
    },
    {
      "cell_type": "code",
      "execution_count": 5,
      "id": "2f24354d",
      "metadata": {
        "id": "2f24354d",
        "outputId": "446e1567-075d-41b4-ea1e-839fc6c2ecf2",
        "colab": {
          "base_uri": "https://localhost:8080/",
          "height": 473
        }
      },
      "outputs": [
        {
          "output_type": "display_data",
          "data": {
            "text/plain": [
              "<Figure size 640x480 with 1 Axes>"
            ],
            "image/png": "[encoded data removed]"
          },
          "metadata": {}
        }
      ],
      "source": [
        "J = 0.2  # J is coupling strength between two nodes (here two pixels)\n",
        "sample_grid = gibbs_samples_jit(jax.random.PRNGKey(0), J, niter)\n",
        "plot_samples(J, sample_grid, 0)"
      ]
    },
    {
      "cell_type": "code",
      "execution_count": 13,
      "id": "2e03cfd1",
      "metadata": {
        "id": "2e03cfd1",
        "outputId": "34752aa3-074a-4c8a-b93a-0529c4cd3ea3",
        "colab": {
          "base_uri": "https://localhost:8080/",
          "height": 473
        }
      },
      "outputs": [
        {
          "output_type": "display_data",
          "data": {
            "text/plain": [
              "<Figure size 640x480 with 1 Axes>"
            ],
            "image/png": "[encoded data removed]"
          },
          "metadata": {}
        }
      ],
      "source": [
        "J = 0.4\n",
        "sample_grid = gibbs_samples_jit(jax.random.PRNGKey(1), J, niter)\n",
        "plot_samples(J, sample_grid, 1)"
      ]
    },
    {
      "cell_type": "code",
      "execution_count": 14,
      "id": "60c6d0be",
      "metadata": {
        "id": "60c6d0be",
        "outputId": "b1dc0119-14f1-41c6-c0ae-f5ef0183a0bb",
        "colab": {
          "base_uri": "https://localhost:8080/",
          "height": 473
        }
      },
      "outputs": [
        {
          "output_type": "display_data",
          "data": {
            "text/plain": [
              "<Figure size 640x480 with 1 Axes>"
            ],
            "image/png": "[encoded data removed]"
          },
          "metadata": {}
        }
      ],
      "source": [
        "J = 10.\n",
        "sample_grid = gibbs_samples_jit(jax.random.PRNGKey(2), J, niter)\n",
        "plot_samples(J, sample_grid, 2)"
      ]
    },
    {
      "cell_type": "code",
      "execution_count": 9,
      "id": "6a925dbd",
      "metadata": {
        "id": "6a925dbd",
        "outputId": "6d8391c7-5eae-4dc6-dadd-a0289bd140fb",
        "colab": {
          "base_uri": "https://localhost:8080/",
          "height": 505,
          "referenced_widgets": [
            "fb06aa3ae6ae42e2ac49569c0d6ab301",
            "11df0d1324194b7081146478fd84e876",
            "37082b42e4d84374865863f2e9d01842",
            "8db6d85572c14daeab1f0baf0453789c",
            "0b13028a94d84739b5c24ad971466bd3",
            "6f9a7483255d4d1786e3a4e90909585b",
            "47f89e6354e44251b1498f7ee9c76ee7"
          ]
        }
      },
      "outputs": [
        {
          "output_type": "display_data",
          "data": {
            "text/plain": [
              "interactive(children=(FloatSlider(value=24.6, description='J', max=50.0, min=0.1, step=0.5), Output()), _dom_c…"
            ],
            "application/vnd.jupyter.widget-view+json": {
              "version_major": 2,
              "version_minor": 0,
              "model_id": "fb06aa3ae6ae42e2ac49569c0d6ab301"
            }
          },
          "metadata": {}
        }
      ],
      "source": [
        "from ipywidgets import interact\n",
        "\n",
        "\n",
        "@interact(J=(0.1, 50, 0.5))\n",
        "def generate_random(J):\n",
        "    n_iter = 50000\n",
        "    grid = gibbs_samples_jit(jax.random.PRNGKey(0), J, n_iter)\n",
        "    plot_samples(J, grid)"
      ]
    },
    {
      "cell_type": "code",
      "execution_count": null,
      "id": "815bc96c",
      "metadata": {
        "id": "815bc96c"
      },
      "outputs": [],
      "source": []
    }
  ],
  "metadata": {
    "kernelspec": {
      "display_name": "Python [conda env:py3713_2]",
      "language": "python",
      "name": "conda-env-py3713_2-py"
    },
    "language_info": {
      "codemirror_mode": {
        "name": "ipython",
        "version": 3
      },
      "file_extension": ".py",
      "mimetype": "text/x-python",
      "name": "python",
      "nbconvert_exporter": "python",
      "pygments_lexer": "ipython3",
      "version": "3.7.13"
    },
    "varInspector": {
      "cols": {
        "lenName": 16,
        "lenType": 16,
        "lenVar": 40
      },
      "kernels_config": {
        "python": {
          "delete_cmd_postfix": "",
          "delete_cmd_prefix": "del ",
          "library": "var_list.py",
          "varRefreshCmd": "print(var_dic_list())"
        },
        "r": {
          "delete_cmd_postfix": ") ",
          "delete_cmd_prefix": "rm(",
          "library": "var_list.r",
          "varRefreshCmd": "cat(var_dic_list()) "
        }
      },
      "types_to_exclude": [
        "module",
        "function",
        "builtin_function_or_method",
        "instance",
        "_Feature"
      ],
      "window_display": false
    },
    "colab": {
      "provenance": []
    },
    "widgets": {
      "application/vnd.jupyter.widget-state+json": {
        "fb06aa3ae6ae42e2ac49569c0d6ab301": {
          "model_module": "@jupyter-widgets/controls",
          "model_name": "VBoxModel",
          "model_module_version": "1.5.0",
          "state": {
            "_dom_classes": [
              "widget-interact"
            ],
            "_model_module": "@jupyter-widgets/controls",
            "_model_module_version": "1.5.0",
            "_model_name": "VBoxModel",
            "_view_count": null,
            "_view_module": "@jupyter-widgets/controls",
            "_view_module_version": "1.5.0",
            "_view_name": "VBoxView",
            "box_style": "",
            "children": [
              "IPY_MODEL_11df0d1324194b7081146478fd84e876",
              "IPY_MODEL_37082b42e4d84374865863f2e9d01842"
            ],
            "layout": "IPY_MODEL_8db6d85572c14daeab1f0baf0453789c"
          }
        },
        "11df0d1324194b7081146478fd84e876": {
          "model_module": "@jupyter-widgets/controls",
          "model_name": "FloatSliderModel",
          "model_module_version": "1.5.0",
          "state": {
            "_dom_classes": [],
            "_model_module": "@jupyter-widgets/controls",
            "_model_module_version": "1.5.0",
            "_model_name": "FloatSliderModel",
            "_view_count": null,
            "_view_module": "@jupyter-widgets/controls",
            "_view_module_version": "1.5.0",
            "_view_name": "FloatSliderView",
            "continuous_update": true,
            "description": "J",
            "description_tooltip": null,
            "disabled": false,
            "layout": "IPY_MODEL_0b13028a94d84739b5c24ad971466bd3",
            "max": 50,
            "min": 0.1,
            "orientation": "horizontal",
            "readout": true,
            "readout_format": ".2f",
            "step": 0.5,
            "style": "IPY_MODEL_6f9a7483255d4d1786e3a4e90909585b",
            "value": 49.6
          }
        },
        "37082b42e4d84374865863f2e9d01842": {
          "model_module": "@jupyter-widgets/output",
          "model_name": "OutputModel",
          "model_module_version": "1.0.0",
          "state": {
            "_dom_classes": [],
            "_model_module": "@jupyter-widgets/output",
            "_model_module_version": "1.0.0",
            "_model_name": "OutputModel",
            "_view_count": null,
            "_view_module": "@jupyter-widgets/output",
            "_view_module_version": "1.0.0",
            "_view_name": "OutputView",
            "layout": "IPY_MODEL_47f89e6354e44251b1498f7ee9c76ee7",
            "msg_id": "",
            "outputs": [
              {
                "output_type": "display_data",
                "data": {
                  "text/plain": "<Figure size 640x480 with 1 Axes>",
                  "image/png": "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\n"
                },
                "metadata": {}
              }
            ]
          }
        },
        "8db6d85572c14daeab1f0baf0453789c": {
          "model_module": "@jupyter-widgets/base",
          "model_name": "LayoutModel",
          "model_module_version": "1.2.0",
          "state": {
            "_model_module": "@jupyter-widgets/base",
            "_model_module_version": "1.2.0",
            "_model_name": "LayoutModel",
            "_view_count": null,
            "_view_module": "@jupyter-widgets/base",
            "_view_module_version": "1.2.0",
            "_view_name": "LayoutView",
            "align_content": null,
            "align_items": null,
            "align_self": null,
            "border": null,
            "bottom": null,
            "display": null,
            "flex": null,
            "flex_flow": null,
            "grid_area": null,
            "grid_auto_columns": null,
            "grid_auto_flow": null,
            "grid_auto_rows": null,
            "grid_column": null,
            "grid_gap": null,
            "grid_row": null,
            "grid_template_areas": null,
            "grid_template_columns": null,
            "grid_template_rows": null,
            "height": null,
            "justify_content": null,
            "justify_items": null,
            "left": null,
            "margin": null,
            "max_height": null,
            "max_width": null,
            "min_height": null,
            "min_width": null,
            "object_fit": null,
            "object_position": null,
            "order": null,
            "overflow": null,
            "overflow_x": null,
            "overflow_y": null,
            "padding": null,
            "right": null,
            "top": null,
            "visibility": null,
            "width": null
          }
        },
        "0b13028a94d84739b5c24ad971466bd3": {
          "model_module": "@jupyter-widgets/base",
          "model_name": "LayoutModel",
          "model_module_version": "1.2.0",
          "state": {
            "_model_module": "@jupyter-widgets/base",
            "_model_module_version": "1.2.0",
            "_model_name": "LayoutModel",
            "_view_count": null,
            "_view_module": "@jupyter-widgets/base",
            "_view_module_version": "1.2.0",
            "_view_name": "LayoutView",
            "align_content": null,
            "align_items": null,
            "align_self": null,
            "border": null,
            "bottom": null,
            "display": null,
            "flex": null,
            "flex_flow": null,
            "grid_area": null,
            "grid_auto_columns": null,
            "grid_auto_flow": null,
            "grid_auto_rows": null,
            "grid_column": null,
            "grid_gap": null,
            "grid_row": null,
            "grid_template_areas": null,
            "grid_template_columns": null,
            "grid_template_rows": null,
            "height": null,
            "justify_content": null,
            "justify_items": null,
            "left": null,
            "margin": null,
            "max_height": null,
            "max_width": null,
            "min_height": null,
            "min_width": null,
            "object_fit": null,
            "object_position": null,
            "order": null,
            "overflow": null,
            "overflow_x": null,
            "overflow_y": null,
            "padding": null,
            "right": null,
            "top": null,
            "visibility": null,
            "width": null
          }
        },
        "6f9a7483255d4d1786e3a4e90909585b": {
          "model_module": "@jupyter-widgets/controls",
          "model_name": "SliderStyleModel",
          "model_module_version": "1.5.0",
          "state": {
            "_model_module": "@jupyter-widgets/controls",
            "_model_module_version": "1.5.0",
            "_model_name": "SliderStyleModel",
            "_view_count": null,
            "_view_module": "@jupyter-widgets/base",
            "_view_module_version": "1.2.0",
            "_view_name": "StyleView",
            "description_width": "",
            "handle_color": null
          }
        },
        "47f89e6354e44251b1498f7ee9c76ee7": {
          "model_module": "@jupyter-widgets/base",
          "model_name": "LayoutModel",
          "model_module_version": "1.2.0",
          "state": {
            "_model_module": "@jupyter-widgets/base",
            "_model_module_version": "1.2.0",
            "_model_name": "LayoutModel",
            "_view_count": null,
            "_view_module": "@jupyter-widgets/base",
            "_view_module_version": "1.2.0",
            "_view_name": "LayoutView",
            "align_content": null,
            "align_items": null,
            "align_self": null,
            "border": null,
            "bottom": null,
            "display": null,
            "flex": null,
            "flex_flow": null,
            "grid_area": null,
            "grid_auto_columns": null,
            "grid_auto_flow": null,
            "grid_auto_rows": null,
            "grid_column": null,
            "grid_gap": null,
            "grid_row": null,
            "grid_template_areas": null,
            "grid_template_columns": null,
            "grid_template_rows": null,
            "height": null,
            "justify_content": null,
            "justify_items": null,
            "left": null,
            "margin": null,
            "max_height": null,
            "max_width": null,
            "min_height": null,
            "min_width": null,
            "object_fit": null,
            "object_position": null,
            "order": null,
            "overflow": null,
            "overflow_x": null,
            "overflow_y": null,
            "padding": null,
            "right": null,
            "top": null,
            "visibility": null,
            "width": null
          }
        }
      }
    }
  },
  "nbformat": 4,
  "nbformat_minor": 5
}